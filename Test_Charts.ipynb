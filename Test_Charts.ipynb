{
  "nbformat": 4,
  "nbformat_minor": 0,
  "metadata": {
    "colab": {
      "name": "Test Charts.ipynb",
      "provenance": [],
      "mount_file_id": "1O9UlL-hIsJgqx3LkzoTCj-6ko5fNDJ-Q",
      "authorship_tag": "ABX9TyPN+dCZweke4w1loXvX/TXn"
    },
    "kernelspec": {
      "name": "python3",
      "display_name": "Python 3"
    },
    "language_info": {
      "name": "python"
    }
  },
  "cells": [
    {
      "cell_type": "code",
      "execution_count": 5,
      "metadata": {
        "colab": {
          "base_uri": "https://localhost:8080/",
          "height": 364
        },
        "id": "29IhFaNbL7hY",
        "outputId": "6d06f496-3b09-4464-f461-8ec0d4837df6"
      },
      "outputs": [
        {
          "output_type": "display_data",
          "data": {
            "text/plain": [
              "         Причины возникновения Наименование устройства\n",
              "0  Неисправность устройств СЦБ                    Реле\n",
              "1  Неисправность устройств СЦБ                    Реле\n",
              "2  Неисправность устройств СЦБ                    Реле\n",
              "3  Неисправность устройств СЦБ                    Реле\n",
              "4  Неисправность устройств СЦБ                    Реле"
            ],
            "text/html": [
              "\n",
              "  <div id=\"df-1b671f91-6d2b-4090-ab91-daa92a4b78cd\">\n",
              "    <div class=\"colab-df-container\">\n",
              "      <div>\n",
              "<style scoped>\n",
              "    .dataframe tbody tr th:only-of-type {\n",
              "        vertical-align: middle;\n",
              "    }\n",
              "\n",
              "    .dataframe tbody tr th {\n",
              "        vertical-align: top;\n",
              "    }\n",
              "\n",
              "    .dataframe thead th {\n",
              "        text-align: right;\n",
              "    }\n",
              "</style>\n",
              "<table border=\"1\" class=\"dataframe\">\n",
              "  <thead>\n",
              "    <tr style=\"text-align: right;\">\n",
              "      <th></th>\n",
              "      <th>Причины возникновения</th>\n",
              "      <th>Наименование устройства</th>\n",
              "    </tr>\n",
              "  </thead>\n",
              "  <tbody>\n",
              "    <tr>\n",
              "      <th>0</th>\n",
              "      <td>Неисправность устройств СЦБ</td>\n",
              "      <td>Реле</td>\n",
              "    </tr>\n",
              "    <tr>\n",
              "      <th>1</th>\n",
              "      <td>Неисправность устройств СЦБ</td>\n",
              "      <td>Реле</td>\n",
              "    </tr>\n",
              "    <tr>\n",
              "      <th>2</th>\n",
              "      <td>Неисправность устройств СЦБ</td>\n",
              "      <td>Реле</td>\n",
              "    </tr>\n",
              "    <tr>\n",
              "      <th>3</th>\n",
              "      <td>Неисправность устройств СЦБ</td>\n",
              "      <td>Реле</td>\n",
              "    </tr>\n",
              "    <tr>\n",
              "      <th>4</th>\n",
              "      <td>Неисправность устройств СЦБ</td>\n",
              "      <td>Реле</td>\n",
              "    </tr>\n",
              "  </tbody>\n",
              "</table>\n",
              "</div>\n",
              "      <button class=\"colab-df-convert\" onclick=\"convertToInteractive('df-1b671f91-6d2b-4090-ab91-daa92a4b78cd')\"\n",
              "              title=\"Convert this dataframe to an interactive table.\"\n",
              "              style=\"display:none;\">\n",
              "        \n",
              "  <svg xmlns=\"http://www.w3.org/2000/svg\" height=\"24px\"viewBox=\"0 0 24 24\"\n",
              "       width=\"24px\">\n",
              "    <path d=\"M0 0h24v24H0V0z\" fill=\"none\"/>\n",
              "    <path d=\"M18.56 5.44l.94 2.06.94-2.06 2.06-.94-2.06-.94-.94-2.06-.94 2.06-2.06.94zm-11 1L8.5 8.5l.94-2.06 2.06-.94-2.06-.94L8.5 2.5l-.94 2.06-2.06.94zm10 10l.94 2.06.94-2.06 2.06-.94-2.06-.94-.94-2.06-.94 2.06-2.06.94z\"/><path d=\"M17.41 7.96l-1.37-1.37c-.4-.4-.92-.59-1.43-.59-.52 0-1.04.2-1.43.59L10.3 9.45l-7.72 7.72c-.78.78-.78 2.05 0 2.83L4 21.41c.39.39.9.59 1.41.59.51 0 1.02-.2 1.41-.59l7.78-7.78 2.81-2.81c.8-.78.8-2.07 0-2.86zM5.41 20L4 18.59l7.72-7.72 1.47 1.35L5.41 20z\"/>\n",
              "  </svg>\n",
              "      </button>\n",
              "      \n",
              "  <style>\n",
              "    .colab-df-container {\n",
              "      display:flex;\n",
              "      flex-wrap:wrap;\n",
              "      gap: 12px;\n",
              "    }\n",
              "\n",
              "    .colab-df-convert {\n",
              "      background-color: #E8F0FE;\n",
              "      border: none;\n",
              "      border-radius: 50%;\n",
              "      cursor: pointer;\n",
              "      display: none;\n",
              "      fill: #1967D2;\n",
              "      height: 32px;\n",
              "      padding: 0 0 0 0;\n",
              "      width: 32px;\n",
              "    }\n",
              "\n",
              "    .colab-df-convert:hover {\n",
              "      background-color: #E2EBFA;\n",
              "      box-shadow: 0px 1px 2px rgba(60, 64, 67, 0.3), 0px 1px 3px 1px rgba(60, 64, 67, 0.15);\n",
              "      fill: #174EA6;\n",
              "    }\n",
              "\n",
              "    [theme=dark] .colab-df-convert {\n",
              "      background-color: #3B4455;\n",
              "      fill: #D2E3FC;\n",
              "    }\n",
              "\n",
              "    [theme=dark] .colab-df-convert:hover {\n",
              "      background-color: #434B5C;\n",
              "      box-shadow: 0px 1px 3px 1px rgba(0, 0, 0, 0.15);\n",
              "      filter: drop-shadow(0px 1px 2px rgba(0, 0, 0, 0.3));\n",
              "      fill: #FFFFFF;\n",
              "    }\n",
              "  </style>\n",
              "\n",
              "      <script>\n",
              "        const buttonEl =\n",
              "          document.querySelector('#df-1b671f91-6d2b-4090-ab91-daa92a4b78cd button.colab-df-convert');\n",
              "        buttonEl.style.display =\n",
              "          google.colab.kernel.accessAllowed ? 'block' : 'none';\n",
              "\n",
              "        async function convertToInteractive(key) {\n",
              "          const element = document.querySelector('#df-1b671f91-6d2b-4090-ab91-daa92a4b78cd');\n",
              "          const dataTable =\n",
              "            await google.colab.kernel.invokeFunction('convertToInteractive',\n",
              "                                                     [key], {});\n",
              "          if (!dataTable) return;\n",
              "\n",
              "          const docLinkHtml = 'Like what you see? Visit the ' +\n",
              "            '<a target=\"_blank\" href=https://colab.research.google.com/notebooks/data_table.ipynb>data table notebook</a>'\n",
              "            + ' to learn more about interactive tables.';\n",
              "          element.innerHTML = '';\n",
              "          dataTable['output_type'] = 'display_data';\n",
              "          await google.colab.output.renderOutput(dataTable, element);\n",
              "          const docLink = document.createElement('div');\n",
              "          docLink.innerHTML = docLinkHtml;\n",
              "          element.appendChild(docLink);\n",
              "        }\n",
              "      </script>\n",
              "    </div>\n",
              "  </div>\n",
              "  "
            ]
          },
          "metadata": {}
        },
        {
          "output_type": "execute_result",
          "data": {
            "text/plain": [
              "              Причины возникновения Наименование устройства\n",
              "count                            97                      95\n",
              "unique                            5                       8\n",
              "top     Неисправность устройств СЦБ          Рельсовая цепь\n",
              "freq                             59                      36"
            ],
            "text/html": [
              "\n",
              "  <div id=\"df-97b21202-77e6-4d88-889c-3303f59cb451\">\n",
              "    <div class=\"colab-df-container\">\n",
              "      <div>\n",
              "<style scoped>\n",
              "    .dataframe tbody tr th:only-of-type {\n",
              "        vertical-align: middle;\n",
              "    }\n",
              "\n",
              "    .dataframe tbody tr th {\n",
              "        vertical-align: top;\n",
              "    }\n",
              "\n",
              "    .dataframe thead th {\n",
              "        text-align: right;\n",
              "    }\n",
              "</style>\n",
              "<table border=\"1\" class=\"dataframe\">\n",
              "  <thead>\n",
              "    <tr style=\"text-align: right;\">\n",
              "      <th></th>\n",
              "      <th>Причины возникновения</th>\n",
              "      <th>Наименование устройства</th>\n",
              "    </tr>\n",
              "  </thead>\n",
              "  <tbody>\n",
              "    <tr>\n",
              "      <th>count</th>\n",
              "      <td>97</td>\n",
              "      <td>95</td>\n",
              "    </tr>\n",
              "    <tr>\n",
              "      <th>unique</th>\n",
              "      <td>5</td>\n",
              "      <td>8</td>\n",
              "    </tr>\n",
              "    <tr>\n",
              "      <th>top</th>\n",
              "      <td>Неисправность устройств СЦБ</td>\n",
              "      <td>Рельсовая цепь</td>\n",
              "    </tr>\n",
              "    <tr>\n",
              "      <th>freq</th>\n",
              "      <td>59</td>\n",
              "      <td>36</td>\n",
              "    </tr>\n",
              "  </tbody>\n",
              "</table>\n",
              "</div>\n",
              "      <button class=\"colab-df-convert\" onclick=\"convertToInteractive('df-97b21202-77e6-4d88-889c-3303f59cb451')\"\n",
              "              title=\"Convert this dataframe to an interactive table.\"\n",
              "              style=\"display:none;\">\n",
              "        \n",
              "  <svg xmlns=\"http://www.w3.org/2000/svg\" height=\"24px\"viewBox=\"0 0 24 24\"\n",
              "       width=\"24px\">\n",
              "    <path d=\"M0 0h24v24H0V0z\" fill=\"none\"/>\n",
              "    <path d=\"M18.56 5.44l.94 2.06.94-2.06 2.06-.94-2.06-.94-.94-2.06-.94 2.06-2.06.94zm-11 1L8.5 8.5l.94-2.06 2.06-.94-2.06-.94L8.5 2.5l-.94 2.06-2.06.94zm10 10l.94 2.06.94-2.06 2.06-.94-2.06-.94-.94-2.06-.94 2.06-2.06.94z\"/><path d=\"M17.41 7.96l-1.37-1.37c-.4-.4-.92-.59-1.43-.59-.52 0-1.04.2-1.43.59L10.3 9.45l-7.72 7.72c-.78.78-.78 2.05 0 2.83L4 21.41c.39.39.9.59 1.41.59.51 0 1.02-.2 1.41-.59l7.78-7.78 2.81-2.81c.8-.78.8-2.07 0-2.86zM5.41 20L4 18.59l7.72-7.72 1.47 1.35L5.41 20z\"/>\n",
              "  </svg>\n",
              "      </button>\n",
              "      \n",
              "  <style>\n",
              "    .colab-df-container {\n",
              "      display:flex;\n",
              "      flex-wrap:wrap;\n",
              "      gap: 12px;\n",
              "    }\n",
              "\n",
              "    .colab-df-convert {\n",
              "      background-color: #E8F0FE;\n",
              "      border: none;\n",
              "      border-radius: 50%;\n",
              "      cursor: pointer;\n",
              "      display: none;\n",
              "      fill: #1967D2;\n",
              "      height: 32px;\n",
              "      padding: 0 0 0 0;\n",
              "      width: 32px;\n",
              "    }\n",
              "\n",
              "    .colab-df-convert:hover {\n",
              "      background-color: #E2EBFA;\n",
              "      box-shadow: 0px 1px 2px rgba(60, 64, 67, 0.3), 0px 1px 3px 1px rgba(60, 64, 67, 0.15);\n",
              "      fill: #174EA6;\n",
              "    }\n",
              "\n",
              "    [theme=dark] .colab-df-convert {\n",
              "      background-color: #3B4455;\n",
              "      fill: #D2E3FC;\n",
              "    }\n",
              "\n",
              "    [theme=dark] .colab-df-convert:hover {\n",
              "      background-color: #434B5C;\n",
              "      box-shadow: 0px 1px 3px 1px rgba(0, 0, 0, 0.15);\n",
              "      filter: drop-shadow(0px 1px 2px rgba(0, 0, 0, 0.3));\n",
              "      fill: #FFFFFF;\n",
              "    }\n",
              "  </style>\n",
              "\n",
              "      <script>\n",
              "        const buttonEl =\n",
              "          document.querySelector('#df-97b21202-77e6-4d88-889c-3303f59cb451 button.colab-df-convert');\n",
              "        buttonEl.style.display =\n",
              "          google.colab.kernel.accessAllowed ? 'block' : 'none';\n",
              "\n",
              "        async function convertToInteractive(key) {\n",
              "          const element = document.querySelector('#df-97b21202-77e6-4d88-889c-3303f59cb451');\n",
              "          const dataTable =\n",
              "            await google.colab.kernel.invokeFunction('convertToInteractive',\n",
              "                                                     [key], {});\n",
              "          if (!dataTable) return;\n",
              "\n",
              "          const docLinkHtml = 'Like what you see? Visit the ' +\n",
              "            '<a target=\"_blank\" href=https://colab.research.google.com/notebooks/data_table.ipynb>data table notebook</a>'\n",
              "            + ' to learn more about interactive tables.';\n",
              "          element.innerHTML = '';\n",
              "          dataTable['output_type'] = 'display_data';\n",
              "          await google.colab.output.renderOutput(dataTable, element);\n",
              "          const docLink = document.createElement('div');\n",
              "          docLink.innerHTML = docLinkHtml;\n",
              "          element.appendChild(docLink);\n",
              "        }\n",
              "      </script>\n",
              "    </div>\n",
              "  </div>\n",
              "  "
            ]
          },
          "metadata": {},
          "execution_count": 5
        }
      ],
      "source": [
        "import pandas as pd\n",
        "\n",
        "df = pd.read_excel('/content/drive/MyDrive/Colab Notebooks/test chart/curr_nrm_july.xlsx', sheet_name='group_data')\n",
        "\n",
        "display(df.head(5))\n",
        "df.describe()"
      ]
    },
    {
      "cell_type": "code",
      "source": [
        "df.columns.to_list()"
      ],
      "metadata": {
        "colab": {
          "base_uri": "https://localhost:8080/",
          "height": 0
        },
        "id": "pSR4vqTKNibf",
        "outputId": "ce150ee6-acf7-422f-ae7c-9ebd3dff6bcf"
      },
      "execution_count": 2,
      "outputs": [
        {
          "output_type": "execute_result",
          "data": {
            "text/plain": [
              "['Причины возникновения', 'Наименование устройства']"
            ]
          },
          "metadata": {},
          "execution_count": 2
        }
      ]
    },
    {
      "cell_type": "code",
      "source": [
        "pie_data = df['Причины возникновения'].to_list()\n",
        "pie_dict = {i:pie_data.count(i) for i in pie_data}\n",
        "print(pie_data)\n",
        "print(pie_dict)"
      ],
      "metadata": {
        "colab": {
          "base_uri": "https://localhost:8080/"
        },
        "id": "beZdZ1TaUQ8Z",
        "outputId": "a00e6337-accd-487e-f918-65cd03adb77d"
      },
      "execution_count": 33,
      "outputs": [
        {
          "output_type": "stream",
          "name": "stdout",
          "text": [
            "['Неисправность устройств СЦБ', 'Неисправность устройств СЦБ', 'Неисправность устройств СЦБ', 'Неисправность устройств СЦБ', 'Неисправность устройств СЦБ', 'Неисправность устройств СЦБ', 'Неисправность устройств СЦБ', 'Кратковременно \"ОЧ\" на рельсовой цепи', 'Кратковременно \"ОЧ\" на рельсовой цепи', 'Кратковременно \"ОЧ\" на рельсовой цепи', 'Неверная индикация показаний рельсовых цепей', 'Неверная индикация показаний рельсовых цепей', 'Кратковременно \"ОЧ\" на рельсовой цепи', 'Кратковременно \"ОЧ\" на рельсовой цепи', 'Кратковременно \"ОЧ\" на рельсовой цепи', 'Неисправность устройств СЦБ', 'Неисправность устройств СЦБ', 'Неисправность устройств СЦБ', 'Неисправность устройств СЦБ', 'Кратковременно \"ОЧ\" на рельсовой цепи', 'Кратковременно \"ОЧ\" на рельсовой цепи', 'Кратковременно \"ОЧ\" на рельсовой цепи', 'Неверная индикация показаний рельсовых цепей', 'Неверная индикация показаний рельсовых цепей', 'Неверная индикация показаний рельсовых цепей', 'Неисправность устройств СЦБ', 'Неисправность устройств СЦБ', 'Неисправность устройств СЦБ', 'Неверная индикация показаний рельсовых цепей', 'Неверная индикация показаний рельсовых цепей', 'Кратковременно \"ОЧ\" на рельсовой цепи', 'Кратковременно \"ОЧ\" на рельсовой цепи', 'Кратковременно \"ОЧ\" на рельсовой цепи', 'Неисправность устройств СЦБ', 'Неисправность устройств СЦБ', 'Неисправность устройств СЦБ', 'Неисправность устройств СЦБ', 'Неисправность устройств СЦБ', 'Неисправность не подтвердилась/устройства отработали штатно', 'Неисправность не подтвердилась/устройства отработали штатно', 'Неисправность не подтвердилась/устройства отработали штатно', 'Неверная индикация показаний рельсовых цепей', 'Неверная индикация показаний рельсовых цепей', 'Неверная индикация показаний рельсовых цепей', 'Неисправность устройств СЦБ', 'Неисправность устройств СЦБ', 'Неисправность устройств СЦБ', 'Неисправность устройств СЦБ', 'Неисправность устройств СЦБ', 'Неисправность устройств СЦБ', 'Неисправность устройств СЦБ', 'Неисправность устройств СЦБ', 'Неисправность устройств СЦБ', 'Кратковременно \"ОЧ\" на рельсовой цепи', 'Кратковременно \"ОЧ\" на рельсовой цепи', 'Кратковременно \"ОЧ\" на рельсовой цепи', 'Неисправность устройств СЦБ', 'Неисправность устройств СЦБ', 'Неисправность устройств СЦБ', 'Неисправность устройств СЦБ', 'Неисправность устройств СЦБ', 'Неисправность устройств СЦБ', 'Неисправность устройств СЦБ', 'Неверная индикация показаний рельсовых цепей', 'Неверная индикация показаний рельсовых цепей', 'Неверная индикация показаний рельсовых цепей', 'Неисправность устройств СЦБ', 'Неисправность устройств СЦБ', 'Неисправность устройств СЦБ', 'Неисправность устройств СЦБ', 'Неисправность устройств СЦБ', 'Неисправность устройств СЦБ', 'Неисправность устройств СЦБ', 'Неисправность устройств СЦБ', 'Неисправность устройств СЦБ', 'Неисправность устройств СЦБ', 'Неисправность устройств СЦБ', 'Неверная индикация показаний рельсовых цепей', 'Неверная индикация показаний рельсовых цепей', 'Неверная индикация показаний рельсовых цепей', 'Неисправность устройств СЦБ', 'Неисправность устройств СЦБ', 'Неверная индикация показаний рельсовых цепей', 'Неверная индикация показаний рельсовых цепей', 'Неисправность устройств СЦБ', 'Неисправность устройств СЦБ', 'Неисправность устройств СЦБ', 'Неисправность устройств СЦБ', 'Неисправность устройств СЦБ', 'Действия работников смежных служб', 'Действия работников смежных служб', 'Неисправность устройств СЦБ', 'Неисправность устройств СЦБ', 'Неисправность устройств СЦБ', 'Неисправность устройств СЦБ', 'Неисправность устройств СЦБ', 'Неисправность устройств СЦБ']\n",
            "{'Неисправность устройств СЦБ': 59, 'Кратковременно \"ОЧ\" на рельсовой цепи': 15, 'Неверная индикация показаний рельсовых цепей': 18, 'Неисправность не подтвердилась/устройства отработали штатно': 3, 'Действия работников смежных служб': 2}\n"
          ]
        }
      ]
    },
    {
      "cell_type": "code",
      "source": [
        "import matplotlib.pyplot as plt\n",
        "import numpy as np\n",
        "\n",
        "\n",
        "labels = []\n",
        "sizes = []\n",
        "\n",
        "for x, y in pie_dict.items():\n",
        "    labels.append(x)\n",
        "    sizes.append(y)\n",
        "\n",
        "# Plot\n",
        "plt.style.use('ggplot')\n",
        "plt.pie(sizes, labels=labels, autopct='%.2f%%', startangle=90)\n",
        "plt.axis('equal')\n",
        "plt.legend(loc='upper left')\n",
        "\n",
        "circle = plt.Circle(xy=(0,0), radius=.65, facecolor='white')\n",
        "plt.gca().add_artist(circle)\n",
        "\n",
        "\n",
        "plt.show()"
      ],
      "metadata": {
        "colab": {
          "base_uri": "https://localhost:8080/",
          "height": 253
        },
        "id": "k5fS6DEocU09",
        "outputId": "0a04ddeb-cede-4a4f-e805-66c2ded53a51"
      },
      "execution_count": 34,
      "outputs": [
        {
          "output_type": "display_data",
          "data": {
            "text/plain": [
              "<Figure size 432x288 with 1 Axes>"
            ],
            "image/png": "[encoded data removed]"
          },
          "metadata": {}
        }
      ]
    },
    {
      "cell_type": "code",
      "source": [
        "\n",
        "bar_data = df['Наименование устройства'].to_list()\n",
        "bar_dict = {i:bar_data.count(i) for i in bar_data}\n",
        "print(bar_data)\n",
        "print(bar_dict)"
      ],
      "metadata": {
        "colab": {
          "base_uri": "https://localhost:8080/"
        },
        "id": "PMniJE_MbxV8",
        "outputId": "b945d768-df8e-44ef-d175-38db1a825edf"
      },
      "execution_count": 44,
      "outputs": [
        {
          "output_type": "stream",
          "name": "stdout",
          "text": [
            "['Реле', 'Реле', 'Реле', 'Реле', 'Реле', 'Путевой приемник', 'Путевой приемник', 'Рельсовая цепь', 'Рельсовая цепь', 'Рельсовая цепь', 'Рельсовая цепь', 'Рельсовая цепь', 'Рельсовая цепь', 'Рельсовая цепь', 'Рельсовая цепь', 'Реле', 'Реле', 'Генератор', 'Генератор', 'Рельсовая цепь', 'Рельсовая цепь', 'Рельсовая цепь', 'Рельсовая цепь', 'Рельсовая цепь', 'Рельсовая цепь', 'Генератор', 'Генератор', 'Генератор', 'Рельсовая цепь', 'Рельсовая цепь', 'Рельсовая цепь', 'Рельсовая цепь', 'Рельсовая цепь', 'Реле', 'Реле', 'Реле', 'Реле', 'Реле', 'Рельсовая цепь', 'Рельсовая цепь', 'Рельсовая цепь', 'Рельсовая цепь', 'Рельсовая цепь', 'Рельсовая цепь', 'Реле', 'Реле', 'Генератор', 'Путевой ящик', 'Путевой ящик', 'Реле', 'Реле', 'Путевой ящик', 'Путевой ящик', 'Рельсовая цепь', 'Рельсовая цепь', 'Рельсовая цепь', 'Реле', 'Реле', 'Генератор', 'Генератор', 'Реле', 'Реле', 'Реле', 'Рельсовая цепь', 'Рельсовая цепь', 'Рельсовая цепь', 'Генератор', 'Генератор', 'Устройство единое приёмо-передающее УЕПП-РЦ', 'Устройство единое приёмо-передающее УЕПП-РЦ', 'Путевой приемник', 'Путевой приемник', 'Трансформатор', 'Генератор', 'Генератор', 'Генератор', 'Генератор', 'Рельсовая цепь', 'Рельсовая цепь', 'Рельсовая цепь', 'Генератор', 'Генератор', 'Рельсовая цепь', 'Рельсовая цепь', 'Реле', 'Реле', 'Реле', 'Реле', 'Реле', nan, nan, 'Генератор', 'Генератор', 'Усилитель', 'Усилитель', 'Генератор', 'Генератор']\n",
            "{'Реле': 26, 'Путевой приемник': 4, 'Рельсовая цепь': 36, 'Генератор': 20, 'Путевой ящик': 4, 'Устройство единое приёмо-передающее УЕПП-РЦ': 2, 'Трансформатор': 1, nan: 2, 'Усилитель': 2}\n"
          ]
        }
      ]
    },
    {
      "cell_type": "code",
      "source": [
        "plt.bar(bar_dict.values(), bar_dict.values())\n",
        "plt.show()"
      ],
      "metadata": {
        "colab": {
          "base_uri": "https://localhost:8080/",
          "height": 265
        },
        "id": "81Fgglk8kveB",
        "outputId": "d580b8a6-31e7-441a-d156-bb4fbd67e15e"
      },
      "execution_count": 51,
      "outputs": [
        {
          "output_type": "display_data",
          "data": {
            "text/plain": [
              "<Figure size 432x288 with 1 Axes>"
            ],
            "image/png": "[encoded data removed]"
          },
          "metadata": {}
        }
      ]
    }
  ]
}